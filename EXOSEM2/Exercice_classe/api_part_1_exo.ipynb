{
 "cells": [
  {
   "cell_type": "markdown",
   "metadata": {},
   "source": [
    "# Partie 1\n"
   ]
  },
  {
   "cell_type": "markdown",
   "metadata": {},
   "source": [
    "## class"
   ]
  },
  {
   "cell_type": "markdown",
   "metadata": {},
   "source": [
    "creer une class (pas de besion de creer un __init__) qui a comme methodes: \n",
    "* read\n",
    "* update\n",
    "* delete"
   ]
  },
  {
   "cell_type": "code",
   "execution_count": null,
   "metadata": {},
   "outputs": [],
   "source": []
  },
  {
   "cell_type": "markdown",
   "metadata": {},
   "source": [
    "-  read prendra en argument une clef et devra retourner la valeur\n",
    "-  update prendra en argument une clef et devra modifier la valeur\n",
    "-  delete prendra en argument une clef et devra effacer l'entrée du dictionnaire"
   ]
  },
  {
   "cell_type": "markdown",
   "metadata": {},
   "source": [
    "## Pymsql"
   ]
  },
  {
   "cell_type": "markdown",
   "metadata": {},
   "source": [
    "avec l'aide de pymsql connecter vous a votre bdd mysql en python afin de pouvoir effectuer des requetes"
   ]
  },
  {
   "cell_type": "code",
   "execution_count": 3,
   "metadata": {},
   "outputs": [],
   "source": [
    "conf = {'db':'DataCaps2',\n",
    "        'port':3306,\n",
    "        'host':'localhost',\n",
    "        'user':'root',\n",
    "        'password':'root',\n",
    "        'charset':'utf8',\n",
    "        'cursorclass':DictCursor}\n",
    "\n",
    "class Pymysql_caps:\n",
    "    def __init__(self, conf):\n",
    "        self.con = pymysql.connect(**conf)\n",
    "        \n",
    "    def read(self, Mysql_id):\n",
    "        with self.con.cursor() as cursor:\n",
    "            sql = 'SELECT * FROM ligue1 WHERE id_team=%s'\n",
    "            cursor.execute(sql,  Mysql_id)\n",
    "            return cursor.fetchone()\n",
    "    \n",
    "    def build_insert_requests(self, mytable, mydict):\n",
    "        with self.con.cursor() as cursor:\n",
    "            columns = ', '.join(\"`\" + str(x) + \"`\" for x in mydict.keys())\n",
    "            values = ', '.join(\"'\" + str(x) + \"'\" for x in mydict.values())\n",
    "            cursor.execute(\"INSERT INTO %s ( %s ) VALUES ( %s );\" % (mytable, columns, values))\n",
    "            self.con.commit()\n",
    "        \n",
    "    def update(self, name,classement,meilleurbuteur,rival,id_team):\n",
    "        with self.con.cursor() as cursor:\n",
    "            cursor.execute(\"\"\"UPDATE ligue1\n",
    "            SET name=%s, classement=%s, meilleurbuteur=%s, rival=%s WHERE id_team=%s\n",
    "            \"\"\",(name,classement,meilleurbuteur,rival,id_team))\n",
    "            self.con.commit()\n",
    "        \n",
    "    def delete(self,Mysql_id):\n",
    "        with self.con.cursor() as cursor:\n",
    "            sql = 'DELETE FROM ligue1 WHERE id_team=%s'\n",
    "            cursor.execute(sql,  int(Mysql_id))\n",
    "            self.con.commit()\n",
    "        "
   ]
  },
  {
   "cell_type": "code",
   "execution_count": 119,
   "metadata": {},
   "outputs": [],
   "source": [
    "mydict = {\"name\":\"MArie\",\"classement\":\"42\",\"meilleurbuteur\":\"caps\",\"rival\": \"kiko\",\"id_team\":1}"
   ]
  },
  {
   "cell_type": "code",
   "execution_count": 122,
   "metadata": {},
   "outputs": [
    {
     "data": {
      "text/plain": [
       "{'id_team': 1,\n",
       " 'name': 'MArie',\n",
       " 'classement': 42,\n",
       " 'meilleurbuteur': 'caps',\n",
       " 'rival': 'kiko'}"
      ]
     },
     "execution_count": 122,
     "metadata": {},
     "output_type": "execute_result"
    }
   ],
   "source": [
    "reader = Pymysql_caps(conf)\n",
    "reader.read(1)"
   ]
  },
  {
   "cell_type": "code",
   "execution_count": 8,
   "metadata": {},
   "outputs": [],
   "source": [
    "reader.delete(999)"
   ]
  },
  {
   "cell_type": "markdown",
   "metadata": {},
   "source": [
    "modifier la classe creer plus haut pour qu'elle interagisse avec votre bdd Mysql\n",
    "elle devra biensur etre capable de:\n",
    "* creer une nouvelle entree\n",
    "* modifier une entrer existante\n",
    "* effacer une entree de la bdd\n",
    "\n",
    "\n"
   ]
  },
  {
   "cell_type": "code",
   "execution_count": null,
   "metadata": {},
   "outputs": [],
   "source": []
  },
  {
   "cell_type": "markdown",
   "metadata": {},
   "source": [
    "les sorties de chacune de ses methodes devront etre parse avec le module jsonify de flask"
   ]
  },
  {
   "cell_type": "code",
   "execution_count": 19,
   "metadata": {},
   "outputs": [
    {
     "data": {
      "text/plain": [
       "404"
      ]
     },
     "execution_count": 19,
     "metadata": {},
     "output_type": "execute_result"
    }
   ],
   "source": [
    "import requests\n",
    "newHeaders = {'Content-type': 'application/json'}\n",
    "r = requests.post('http://0.0.0.0:5000/insert', json=mydict,headers=newHeaders)\n",
    "r.status_code"
   ]
  },
  {
   "cell_type": "code",
   "execution_count": 43,
   "metadata": {},
   "outputs": [],
   "source": [
    "import json\n",
    "data={'data': 'Remember the milk'}\n",
    "data2 = json.dumps(data)"
   ]
  },
  {
   "cell_type": "code",
   "execution_count": 120,
   "metadata": {},
   "outputs": [
    {
     "data": {
      "text/plain": [
       "<Response [200]>"
      ]
     },
     "execution_count": 120,
     "metadata": {},
     "output_type": "execute_result"
    }
   ],
   "source": [
    "requests.put('http://0.0.0.0:5000/find_one_by_id/2',json=mydict)"
   ]
  },
  {
   "cell_type": "code",
   "execution_count": 83,
   "metadata": {},
   "outputs": [
    {
     "data": {
      "text/plain": [
       "b'null'"
      ]
     },
     "execution_count": 83,
     "metadata": {},
     "output_type": "execute_result"
    }
   ],
   "source": [
    "requests.get('http://0.0.0.0:5000/find_one_by_id/7',json=mydict).content"
   ]
  },
  {
   "cell_type": "code",
   "execution_count": null,
   "metadata": {},
   "outputs": [],
   "source": []
  }
 ],
 "metadata": {
  "kernelspec": {
   "display_name": "Python 3",
   "language": "python",
   "name": "python3"
  },
  "language_info": {
   "codemirror_mode": {
    "name": "ipython",
    "version": 3
   },
   "file_extension": ".py",
   "mimetype": "text/x-python",
   "name": "python",
   "nbconvert_exporter": "python",
   "pygments_lexer": "ipython3",
   "version": "3.7.0"
  },
  "varInspector": {
   "cols": {
    "lenName": 16,
    "lenType": 16,
    "lenVar": 40
   },
   "kernels_config": {
    "python": {
     "delete_cmd_postfix": "",
     "delete_cmd_prefix": "del ",
     "library": "var_list.py",
     "varRefreshCmd": "print(var_dic_list())"
    },
    "r": {
     "delete_cmd_postfix": ") ",
     "delete_cmd_prefix": "rm(",
     "library": "var_list.r",
     "varRefreshCmd": "cat(var_dic_list()) "
    }
   },
   "types_to_exclude": [
    "module",
    "function",
    "builtin_function_or_method",
    "instance",
    "_Feature"
   ],
   "window_display": false
  }
 },
 "nbformat": 4,
 "nbformat_minor": 2
}
